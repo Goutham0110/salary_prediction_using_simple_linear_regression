{
  "nbformat": 4,
  "nbformat_minor": 0,
  "metadata": {
    "colab": {
      "name": "salary_prediction.ipynb",
      "provenance": [],
      "collapsed_sections": []
    },
    "kernelspec": {
      "name": "python3",
      "display_name": "Python 3"
    },
    "language_info": {
      "name": "python"
    }
  },
  "cells": [
    {
      "cell_type": "code",
      "metadata": {
        "id": "kuXpL33hnF_4"
      },
      "source": [
        "import pandas as pd\n",
        "import numpy as np\n",
        "import matplotlib.pyplot as plt\n",
        "import seaborn as sns\n",
        "from sklearn import linear_model as L\n",
        "from sklearn.model_selection import train_test_split\n",
        "\n",
        "\n",
        "#importing dataset\n",
        "url='https://raw.githubusercontent.com/Goutham0110/salary_prediction_using_simple_linear_regression/main/salary_data.csv'\n",
        "df=pd.read_csv(url)"
      ],
      "execution_count": 1,
      "outputs": []
    },
    {
      "cell_type": "code",
      "metadata": {
        "colab": {
          "base_uri": "https://localhost:8080/"
        },
        "id": "1tKgI8k3nYb6",
        "outputId": "b801ffa9-4020-43aa-920a-8d22ebf22227"
      },
      "source": [
        "#Linear regression model\n",
        "X=df[['YearsExperience']]\n",
        "Y=df[['Salary']]\n",
        "lm=L.LinearRegression()\n",
        "lm.fit(X,Y)"
      ],
      "execution_count": 2,
      "outputs": [
        {
          "output_type": "execute_result",
          "data": {
            "text/plain": [
              "LinearRegression(copy_X=True, fit_intercept=True, n_jobs=None, normalize=False)"
            ]
          },
          "metadata": {
            "tags": []
          },
          "execution_count": 2
        }
      ]
    },
    {
      "cell_type": "code",
      "metadata": {
        "colab": {
          "base_uri": "https://localhost:8080/",
          "height": 279
        },
        "id": "MbeuM_OOw90y",
        "outputId": "633cd572-a18f-465d-d102-dc13494e7a41"
      },
      "source": [
        "#Visualisation of model\n",
        "xlst=[]\n",
        "ylst=[]\n",
        "for i in range (10):\n",
        "  yval=lm.predict([[i]])\n",
        "  xlst.append(i)\n",
        "  ylst.append(float(yval))\n",
        "plt.plot(xlst,ylst)\n",
        "plt.scatter(X,Y,color='cyan')\n",
        "plt.xlabel(\"Experience in years\")\n",
        "plt.ylabel(\"Salary\")\n",
        "plt.show()"
      ],
      "execution_count": 3,
      "outputs": [
        {
          "output_type": "display_data",
          "data": {
            "image/png": "[encoded data removed]",
            "text/plain": [
              "<Figure size 432x288 with 1 Axes>"
            ]
          },
          "metadata": {
            "tags": [],
            "needs_background": "light"
          }
        }
      ]
    },
    {
      "cell_type": "code",
      "metadata": {
        "id": "iSUiHAyknwTR",
        "outputId": "36f76078-6916-47a1-a271-8c14694f6903",
        "colab": {
          "base_uri": "https://localhost:8080/",
          "height": 363
        }
      },
      "source": [
        "exp=float(input(\"Enter Years of Experience\\t\"))\n",
        "yhat=lm.predict([[exp]])\n",
        "print(\"\\nThe predicted salary is \",round(float(yhat),ndigits=2),\"\\n\\n\")\n",
        "\n",
        "\n",
        "xlst=[]\n",
        "ylst=[]\n",
        "for i in range (10):\n",
        "  yval=lm.predict([[i]])\n",
        "  xlst.append(i)\n",
        "  ylst.append(float(yval))\n",
        "plt.plot(xlst,ylst)\n",
        "plt.scatter(X,Y,color='cyan')\n",
        "plt.scatter(exp,yhat)\n",
        "plt.xlabel(\"Experience in years\")\n",
        "plt.ylabel(\"Salary\")\n",
        "plt.show() "
      ],
      "execution_count": 4,
      "outputs": [
        {
          "output_type": "stream",
          "text": [
            "Enter Years of Experience\t3\n",
            "\n",
            "The predicted salary is  54142.09 \n",
            "\n",
            "\n"
          ],
          "name": "stdout"
        },
        {
          "output_type": "display_data",
          "data": {
            "image/png": "[encoded data removed]",
            "text/plain": [
              "<Figure size 432x288 with 1 Axes>"
            ]
          },
          "metadata": {
            "tags": [],
            "needs_background": "light"
          }
        }
      ]
    }
  ]
}