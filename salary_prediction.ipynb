{
  "nbformat": 4,
  "nbformat_minor": 0,
  "metadata": {
    "colab": {
      "name": "salary_prediction.ipynb",
      "provenance": [],
      "collapsed_sections": []
    },
    "kernelspec": {
      "name": "python3",
      "display_name": "Python 3"
    },
    "language_info": {
      "name": "python"
    }
  },
  "cells": [
    {
      "cell_type": "code",
      "metadata": {
        "id": "kuXpL33hnF_4"
      },
      "source": [
        "import pandas as pd\n",
        "import numpy as np\n",
        "import matplotlib.pyplot as plt\n",
        "import seaborn as sns\n",
        "from sklearn import linear_model as L\n",
        "from sklearn.model_selection import train_test_split\n",
        "\n",
        "\n",
        "#importing dataset\n",
        "url='https://raw.githubusercontent.com/Goutham0110/salary_prediction_using_simple_linear_regression/main/salary_data.csv'\n",
        "df=pd.read_csv(url)"
      ],
      "execution_count": null,
      "outputs": []
    },
    {
      "cell_type": "code",
      "metadata": {
        "colab": {
          "base_uri": "https://localhost:8080/"
        },
        "id": "1tKgI8k3nYb6",
        "outputId": "1cbe5c70-5e1f-4f3d-c0dd-4bdf7a1e4a0f"
      },
      "source": [
        "#Linear regression model\n",
        "X=df[['YearsExperience']]\n",
        "Y=df[['Salary']]\n",
        "lm=L.LinearRegression()\n",
        "lm.fit(X,Y)"
      ],
      "execution_count": null,
      "outputs": [
        {
          "output_type": "execute_result",
          "data": {
            "text/plain": [
              "LinearRegression(copy_X=True, fit_intercept=True, n_jobs=None, normalize=False)"
            ]
          },
          "metadata": {
            "tags": []
          },
          "execution_count": 52
        }
      ]
    },
    {
      "cell_type": "code",
      "metadata": {
        "colab": {
          "base_uri": "https://localhost:8080/",
          "height": 279
        },
        "id": "MbeuM_OOw90y",
        "outputId": "43e9013b-7ad2-4289-ef43-e151d20668f3"
      },
      "source": [
        "#Visualisation of model\n",
        "xlst=[]\n",
        "ylst=[]\n",
        "for i in range (10):\n",
        "  yval=lm.predict([[i]])\n",
        "  xlst.append(i)\n",
        "  ylst.append(float(yval))\n",
        "plt.plot(xlst,ylst)\n",
        "plt.scatter(X,Y,color='cyan')\n",
        "plt.xlabel(\"Experience in years\")\n",
        "plt.ylabel(\"Salary\")\n",
        "plt.show()"
      ],
      "execution_count": null,
      "outputs": [
        {
          "output_type": "display_data",
          "data": {
            "image/png": "[encoded data removed]",
            "text/plain": [
              "<Figure size 432x288 with 1 Axes>"
            ]
          },
          "metadata": {
            "tags": [],
            "needs_background": "light"
          }
        }
      ]
    },
    {
      "cell_type": "code",
      "metadata": {
        "id": "iSUiHAyknwTR"
      },
      "source": [
        "exp=float(input(\"Enter Years of Experience\\t\"))\n",
        "yhat=lm.predict([[exp]])\n",
        "print(\"\\nThe predicted salary is \",round(float(yhat),ndigits=2),\"\\n\\n\")\n",
        "\n",
        "\n",
        "xlst=[]\n",
        "ylst=[]\n",
        "for i in range (10):\n",
        "  yval=lm.predict([[i]])\n",
        "  xlst.append(i)\n",
        "  ylst.append(float(yval))\n",
        "plt.plot(xlst,ylst)\n",
        "plt.scatter(X,Y,color='cyan')\n",
        "plt.scatter(exp,yhat)\n",
        "plt.xlabel(\"Experience in years\")\n",
        "plt.ylabel(\"Salary\")\n",
        "plt.show() "
      ],
      "execution_count": null,
      "outputs": []
    }
  ]
}